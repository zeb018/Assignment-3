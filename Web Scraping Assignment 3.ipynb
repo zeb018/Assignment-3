{
 "cells": [
  {
   "cell_type": "markdown",
   "metadata": {},
   "source": [
    "Q.1:"
   ]
  },
  {
   "cell_type": "code",
   "execution_count": 102,
   "metadata": {},
   "outputs": [],
   "source": [
    "#import required library\n",
    "import selenium\n",
    "import pandas as pd\n",
    "import time\n",
    "\n",
    "#import webdriver from selenium\n",
    "from selenium import webdriver\n"
   ]
  },
  {
   "cell_type": "code",
   "execution_count": 220,
   "metadata": {},
   "outputs": [],
   "source": [
    "#Activating the webdriver\n",
    "driver=webdriver.Chrome(r'chromedriver.exe')"
   ]
  },
  {
   "cell_type": "code",
   "execution_count": 221,
   "metadata": {},
   "outputs": [],
   "source": [
    "#opening homepage Amazon\n",
    "driver.get('https://www.amazon.in/')"
   ]
  },
  {
   "cell_type": "code",
   "execution_count": 222,
   "metadata": {},
   "outputs": [
    {
     "name": "stdout",
     "output_type": "stream",
     "text": [
      "Enter Product you want to search:Guitar\n"
     ]
    }
   ],
   "source": [
    "#enter user input\n",
    "user_inp=input('Enter Product you want to search:')"
   ]
  },
  {
   "cell_type": "code",
   "execution_count": 223,
   "metadata": {},
   "outputs": [],
   "source": [
    "#locating Search bar\n",
    "search_bar=driver.find_element_by_id(\"twotabsearchtextbox\")\n",
    "search_bar.clear()"
   ]
  },
  {
   "cell_type": "code",
   "execution_count": 224,
   "metadata": {},
   "outputs": [],
   "source": [
    "search_bar.send_keys(user_inp)"
   ]
  },
  {
   "cell_type": "code",
   "execution_count": 225,
   "metadata": {},
   "outputs": [],
   "source": [
    "search_button = driver.find_element_by_xpath('//div[@class=\"nav-search-submit nav-sprite\"]/span/input')       # Locating search_button by xpath\n",
    "\n",
    "search_button.click() "
   ]
  },
  {
   "cell_type": "markdown",
   "metadata": {},
   "source": [
    "Q.2 In continuation to Q.1"
   ]
  },
  {
   "cell_type": "code",
   "execution_count": 226,
   "metadata": {},
   "outputs": [],
   "source": [
    "#fetching url for 3 pages\n",
    "urls=[]\n",
    "for i in range(0,3):\n",
    "    for j in driver.find_elements_by_xpath('//h2[@class=\"a-size-base-plus a-color-base a-text-normal\"]/a'):\n",
    "        urls.append(j.get_attribute('href'))\n",
    "    driver.find_element_by_xpath('//li[@class=\"a-last\"]/a').click()\n",
    "    time.sleep(4)"
   ]
  },
  {
   "cell_type": "code",
   "execution_count": 227,
   "metadata": {},
   "outputs": [],
   "source": [
    "abc=[]\n",
    "deg=[]\n",
    "ghi=[]\n",
    "jkl=[]\n",
    "mno=[]\n",
    "pqr=[]\n",
    "stu=[]\n",
    "vxw=[]\n",
    "bca=[]\n",
    "xyz=[]"
   ]
  },
  {
   "cell_type": "code",
   "execution_count": 228,
   "metadata": {},
   "outputs": [],
   "source": [
    "for i in range(0,3):\n",
    "    for j in driver.find_elements_by_xpath('//tr[@class=\"a-spacing-small\"]'):\n",
    "        abc.append(j.text)\n",
    "    for k in driver.find_elements_by_xpath('//div[@class=\"a-section a-spacing-none\"]/span'):\n",
    "        deg.append(k.text)\n",
    "    for l in driver.find_elements_by_xpath('//i[@class=\"a-icon a-icon-star a-star-4\"]'):\n",
    "        ghi.append(l.text)\n",
    "    for m in driver.find_elements_by_xpath('//span[@class=\"a-size-base\"]'):\n",
    "        jkl.append(m.text)\n",
    "    for n in driver.find_elements_by_xpath('//span[@class=\"a-size-medium a-color-price priceBlockDealPriceString\"]'):\n",
    "        mno.append(n.text)\n",
    "    for o in driver.find_elements_by_xpath('//a[@class=\"a-size-small a-link-normal a-text-normal\"]'):\n",
    "        pqr.append(o.text)\n",
    "    for p in driver.find_elements_by_xpath('//div[@class=\"a-section a-spacing-none\"]'):\n",
    "        stu.append(p.text)\n",
    "    for q in driver.find_elements_by_xpath('//div[@class=\"a-section a-spacing-base\"]'):\n",
    "        vxw.append(q.text)\n",
    "    for r in driver.find_elements_by_xpath('//div[@class=\"a-section a-spacing-medium a-spacing-top-small\"]'):\n",
    "        bca.append(r.text)\n",
    "    for s in driver.find_elements_by_xpath('//h2[@class=\"a-size-base-plus a-color-base a-text-normal\"]/a'):\n",
    "        xyz.append(s.get_attribute('href'))\n",
    "    driver.find_element_by_xpath('//li[@class=\"a-last\"]/a').click()\n",
    "    time.sleep(4)"
   ]
  },
  {
   "cell_type": "code",
   "execution_count": 230,
   "metadata": {},
   "outputs": [
    {
     "data": {
      "text/plain": [
       "(0, 0, 1, 84, 0, 0, 29, 0, 0, 0)"
      ]
     },
     "execution_count": 230,
     "metadata": {},
     "output_type": "execute_result"
    }
   ],
   "source": [
    "len(abc),len(deg),len(ghi),len(jkl),len(mno),len(pqr),len(stu),len(vxw),len(bca),len(xyz)"
   ]
  },
  {
   "cell_type": "code",
   "execution_count": null,
   "metadata": {},
   "outputs": [],
   "source": [
    "Guitar = pd.DataFrame({'Brand_name':abc,\n",
    "                      'Product_name':deg,\n",
    "                      'Product_rating':ghi,\n",
    "                      'Product_ratings':jkl,\n",
    "                      'Product_Price':mno,\n",
    "                      'Return_exchange':pqr,\n",
    "                      'Delivery_expected':stu,\n",
    "                      'Product_availability':vxw,\n",
    "                      'Other_details':bca,\n",
    "                       'Product_url':xyz})\n",
    "Guitar.head()"
   ]
  },
  {
   "cell_type": "markdown",
   "metadata": {},
   "source": [
    "Q:3"
   ]
  },
  {
   "cell_type": "code",
   "execution_count": 236,
   "metadata": {},
   "outputs": [],
   "source": [
    "#import required library\n",
    "import selenium\n",
    "import pandas as pd\n",
    "import time\n",
    "\n",
    "#import webdriver from selenium\n",
    "from selenium import webdriver"
   ]
  },
  {
   "cell_type": "code",
   "execution_count": 277,
   "metadata": {},
   "outputs": [],
   "source": [
    "#Activating the webdriver\n",
    "driver=webdriver.Chrome(r'chromedriver.exe')"
   ]
  },
  {
   "cell_type": "code",
   "execution_count": 278,
   "metadata": {},
   "outputs": [],
   "source": [
    "#opening google\n",
    "driver.get('https://www.google.com/')"
   ]
  },
  {
   "cell_type": "code",
   "execution_count": 279,
   "metadata": {},
   "outputs": [
    {
     "name": "stdout",
     "output_type": "stream",
     "text": [
      "Enter Product you want to search:Fruits\n"
     ]
    }
   ],
   "source": [
    "#enter user input\n",
    "user_inp=input('Enter Product you want to search:')"
   ]
  },
  {
   "cell_type": "code",
   "execution_count": 281,
   "metadata": {},
   "outputs": [],
   "source": [
    "#locating Search bar\n",
    "search_bar = driver.find_element_by_css_selector('input.gLFyf')\n",
    "search_bar.send_keys(user_inp)"
   ]
  },
  {
   "cell_type": "code",
   "execution_count": 284,
   "metadata": {},
   "outputs": [],
   "source": [
    "search_button = driver.find_element_by_xpath('/html/body/div[1]/div[3]/form/div[1]/div[1]/div[3]/center/input[1]')       # Locating search_button by xpath\n",
    "\n",
    "search_button.click() "
   ]
  },
  {
   "cell_type": "code",
   "execution_count": 285,
   "metadata": {},
   "outputs": [],
   "source": [
    "#fetching url for 3 pages\n",
    "urls=[]\n",
    "for i in range(0,50,101):\n",
    "    for j in driver.find_elements_by_xpath('//*[@id=\"iur\"]/div[2]/div/div/div[1]/a/g-img/div'):\n",
    "        urls.append(j.get_attribute('href'))\n",
    "    driver.find_element_by_xpath('//*[@id=\"rso\"]/div[1]/div/g-section-with-header/div[3]/g-more-link/a/div').click()\n",
    "    time.sleep(4)"
   ]
  },
  {
   "cell_type": "code",
   "execution_count": 286,
   "metadata": {},
   "outputs": [
    {
     "data": {
      "text/plain": [
       "[None]"
      ]
     },
     "execution_count": 286,
     "metadata": {},
     "output_type": "execute_result"
    }
   ],
   "source": [
    "urls"
   ]
  },
  {
   "cell_type": "code",
   "execution_count": 287,
   "metadata": {},
   "outputs": [],
   "source": [
    "image=[]"
   ]
  },
  {
   "cell_type": "code",
   "execution_count": 298,
   "metadata": {},
   "outputs": [],
   "source": [
    "for i in range(0,3):\n",
    "    for j in driver.find_elements_by_xpath('//img[@class=\"rg_i Q4LuWd\"]'):\n",
    "        image.append(j.text)\n",
    "    time.sleep(4)"
   ]
  },
  {
   "cell_type": "code",
   "execution_count": 294,
   "metadata": {},
   "outputs": [
    {
     "data": {
      "text/html": [
       "<div>\n",
       "<style scoped>\n",
       "    .dataframe tbody tr th:only-of-type {\n",
       "        vertical-align: middle;\n",
       "    }\n",
       "\n",
       "    .dataframe tbody tr th {\n",
       "        vertical-align: top;\n",
       "    }\n",
       "\n",
       "    .dataframe thead th {\n",
       "        text-align: right;\n",
       "    }\n",
       "</style>\n",
       "<table border=\"1\" class=\"dataframe\">\n",
       "  <thead>\n",
       "    <tr style=\"text-align: right;\">\n",
       "      <th></th>\n",
       "      <th>image</th>\n",
       "    </tr>\n",
       "  </thead>\n",
       "  <tbody>\n",
       "    <tr>\n",
       "      <th>0</th>\n",
       "      <td></td>\n",
       "    </tr>\n",
       "    <tr>\n",
       "      <th>1</th>\n",
       "      <td></td>\n",
       "    </tr>\n",
       "    <tr>\n",
       "      <th>2</th>\n",
       "      <td></td>\n",
       "    </tr>\n",
       "    <tr>\n",
       "      <th>3</th>\n",
       "      <td></td>\n",
       "    </tr>\n",
       "    <tr>\n",
       "      <th>4</th>\n",
       "      <td></td>\n",
       "    </tr>\n",
       "  </tbody>\n",
       "</table>\n",
       "</div>"
      ],
      "text/plain": [
       "  image\n",
       "0      \n",
       "1      \n",
       "2      \n",
       "3      \n",
       "4      "
      ]
     },
     "execution_count": 294,
     "metadata": {},
     "output_type": "execute_result"
    }
   ],
   "source": [
    "Fruits=pd.DataFrame({\"image\":image})\n",
    "\n",
    "Fruits.head()"
   ]
  },
  {
   "cell_type": "code",
   "execution_count": 300,
   "metadata": {},
   "outputs": [
    {
     "data": {
      "text/plain": [
       "image    object\n",
       "dtype: object"
      ]
     },
     "execution_count": 300,
     "metadata": {},
     "output_type": "execute_result"
    }
   ],
   "source": [
    "Fruits.dtypes"
   ]
  },
  {
   "cell_type": "code",
   "execution_count": 301,
   "metadata": {},
   "outputs": [
    {
     "data": {
      "text/html": [
       "<div>\n",
       "<style scoped>\n",
       "    .dataframe tbody tr th:only-of-type {\n",
       "        vertical-align: middle;\n",
       "    }\n",
       "\n",
       "    .dataframe tbody tr th {\n",
       "        vertical-align: top;\n",
       "    }\n",
       "\n",
       "    .dataframe thead th {\n",
       "        text-align: right;\n",
       "    }\n",
       "</style>\n",
       "<table border=\"1\" class=\"dataframe\">\n",
       "  <thead>\n",
       "    <tr style=\"text-align: right;\">\n",
       "      <th></th>\n",
       "      <th>image</th>\n",
       "    </tr>\n",
       "  </thead>\n",
       "  <tbody>\n",
       "    <tr>\n",
       "      <th>0</th>\n",
       "      <td></td>\n",
       "    </tr>\n",
       "    <tr>\n",
       "      <th>1</th>\n",
       "      <td></td>\n",
       "    </tr>\n",
       "    <tr>\n",
       "      <th>2</th>\n",
       "      <td></td>\n",
       "    </tr>\n",
       "    <tr>\n",
       "      <th>3</th>\n",
       "      <td></td>\n",
       "    </tr>\n",
       "    <tr>\n",
       "      <th>4</th>\n",
       "      <td></td>\n",
       "    </tr>\n",
       "    <tr>\n",
       "      <th>...</th>\n",
       "      <td>...</td>\n",
       "    </tr>\n",
       "    <tr>\n",
       "      <th>187</th>\n",
       "      <td></td>\n",
       "    </tr>\n",
       "    <tr>\n",
       "      <th>188</th>\n",
       "      <td></td>\n",
       "    </tr>\n",
       "    <tr>\n",
       "      <th>189</th>\n",
       "      <td></td>\n",
       "    </tr>\n",
       "    <tr>\n",
       "      <th>190</th>\n",
       "      <td></td>\n",
       "    </tr>\n",
       "    <tr>\n",
       "      <th>191</th>\n",
       "      <td></td>\n",
       "    </tr>\n",
       "  </tbody>\n",
       "</table>\n",
       "<p>192 rows × 1 columns</p>\n",
       "</div>"
      ],
      "text/plain": [
       "    image\n",
       "0        \n",
       "1        \n",
       "2        \n",
       "3        \n",
       "4        \n",
       "..    ...\n",
       "187      \n",
       "188      \n",
       "189      \n",
       "190      \n",
       "191      \n",
       "\n",
       "[192 rows x 1 columns]"
      ]
     },
     "execution_count": 301,
     "metadata": {},
     "output_type": "execute_result"
    }
   ],
   "source": [
    "Fruits"
   ]
  },
  {
   "cell_type": "code",
   "execution_count": 302,
   "metadata": {},
   "outputs": [],
   "source": [
    "Fruits.to_csv(\"Fruits.csv\")"
   ]
  },
  {
   "cell_type": "markdown",
   "metadata": {},
   "source": [
    "Q.4"
   ]
  },
  {
   "cell_type": "code",
   "execution_count": 314,
   "metadata": {},
   "outputs": [],
   "source": [
    "#import required library\n",
    "import selenium\n",
    "import pandas as pd\n",
    "import time\n",
    "\n",
    "#import webdriver from selenium\n",
    "from selenium import webdriver"
   ]
  },
  {
   "cell_type": "code",
   "execution_count": 315,
   "metadata": {},
   "outputs": [],
   "source": [
    "#Activating the webdriver\n",
    "driver=webdriver.Chrome(r'chromedriver.exe')"
   ]
  },
  {
   "cell_type": "code",
   "execution_count": 316,
   "metadata": {},
   "outputs": [],
   "source": [
    "#Open flipkart\n",
    "driver.get('https://www.flipkart.com/')"
   ]
  },
  {
   "cell_type": "code",
   "execution_count": 317,
   "metadata": {},
   "outputs": [
    {
     "name": "stdout",
     "output_type": "stream",
     "text": [
      "Enter Product you want to search:Smartphone\n"
     ]
    }
   ],
   "source": [
    "#enter user input\n",
    "user_inp=input('Enter Product you want to search:')"
   ]
  },
  {
   "cell_type": "code",
   "execution_count": 320,
   "metadata": {},
   "outputs": [],
   "source": [
    "#locating Search bar\n",
    "search_bar=driver.find_element_by_xpath('//input[@class=\"_3704LK\"]')\n",
    "search_bar.clear()"
   ]
  },
  {
   "cell_type": "code",
   "execution_count": 321,
   "metadata": {},
   "outputs": [],
   "source": [
    "search_bar.send_keys(user_inp)"
   ]
  },
  {
   "cell_type": "code",
   "execution_count": 322,
   "metadata": {},
   "outputs": [],
   "source": [
    "search_button = driver.find_element_by_xpath('//*[@id=\"container\"]/div/div[1]/div[1]/div[2]/div[2]/form/div/button')       # Locating search_button by xpath\n",
    "\n",
    "search_button.click() "
   ]
  },
  {
   "cell_type": "code",
   "execution_count": 323,
   "metadata": {},
   "outputs": [],
   "source": [
    " #fetching url\n",
    "urls=[]\n",
    "for i in range(0,1):\n",
    "    for j in driver.find_elements_by_xpath('//*[@id=\"container\"]/div/div[3]/div[1]/div[2]/div[2]/div/div/div/a'):\n",
    "        urls.append(j.get_attribute('href'))"
   ]
  },
  {
   "cell_type": "code",
   "execution_count": 324,
   "metadata": {},
   "outputs": [
    {
     "data": {
      "text/plain": [
       "['https://www.flipkart.com/infinix-hot-10-play-morandi-green-64-gb/p/itm1f660c8716944?pid=MOBGFG7U8PDJFFTJ&lid=LSTMOBGFG7U8PDJFFTJDLSYLK&marketplace=FLIPKART&q=Smartphone&store=tyy%2F4io&srno=s_1_1&otracker=search&otracker1=search&fm=SEARCH&iid=a3d17502-7477-466d-834b-090240a1c50d.MOBGFG7U8PDJFFTJ.SEARCH&ppt=hp&ppn=homepage&ssid=3x1t6f0zkw0000001622268650418&qH=853ca16bda4f3d30']"
      ]
     },
     "execution_count": 324,
     "metadata": {},
     "output_type": "execute_result"
    }
   ],
   "source": [
    "urls"
   ]
  },
  {
   "cell_type": "code",
   "execution_count": 331,
   "metadata": {},
   "outputs": [],
   "source": [
    "brand_name=[]\n",
    "smartphone_name=[]\n",
    "smartphone_color=[]\n",
    "smartphone_price=[]\n",
    "smartphone_urls=[]"
   ]
  },
  {
   "cell_type": "code",
   "execution_count": 333,
   "metadata": {},
   "outputs": [],
   "source": [
    "for i in range(0,1):\n",
    "    for j in driver.find_elements_by_xpath('//div[@class=\"_4rR01T\"]'):\n",
    "        brand_name.append(j.text)\n",
    "    for k in driver.find_elements_by_xpath('//div[@class=\"_4rR01T\"]'):\n",
    "        smartphone_name.append(k.text)\n",
    "    for l in driver.find_elements_by_xpath('//div[@class=\"_4rR01T\"]'):\n",
    "        smartphone_color.append(l.text)\n",
    "    for m in driver.find_elements_by_xpath('//div[@class=\"_30jeq3 _1_WHN1\"]'):\n",
    "        smartphone_price.append(m.text)\n",
    "    for n in driver.find_elements_by_xpath('//*[@id=\"container\"]/div/div[3]/div[1]/div[2]/div[2]/div/div/div/a'):\n",
    "        smartphone_urls.append(j.get_attribute('href'))\n",
    "    time.sleep(4)"
   ]
  },
  {
   "cell_type": "code",
   "execution_count": 329,
   "metadata": {},
   "outputs": [
    {
     "data": {
      "text/plain": [
       "['Infinix Hot 10 Play (Morandi Green, 64 GB)',\n",
       " 'Infinix Hot 10 Play (Aegean Blue, 64 GB)',\n",
       " 'realme Narzo 20 (Glory Silver, 64 GB)',\n",
       " 'REDMI 9i (Midnight Black, 64 GB)',\n",
       " 'Infinix Hot 10 Play (7° Purple, 64 GB)',\n",
       " 'REDMI 9 Power (Electric Green, 64 GB)',\n",
       " 'realme Narzo 30A (Laser Blue, 64 GB)',\n",
       " 'realme Narzo 30A (Laser Black, 64 GB)',\n",
       " 'realme Narzo 30A (Laser Black, 32 GB)',\n",
       " 'realme C20 (Cool Blue, 32 GB)',\n",
       " 'realme C20 (Cool Grey, 32 GB)',\n",
       " 'Infinix Smart 4 Plus (Quetzal Cyan, 32 GB)',\n",
       " 'Infinix Smart 4 Plus (Midnight Black, 32 GB)',\n",
       " 'POCO M3 (Cool Blue, 64 GB)',\n",
       " 'POCO M3 (Power Black, 128 GB)',\n",
       " 'REDMI 9 Power (Mighty Black, 64 GB)',\n",
       " 'realme Narzo 20 (Victory Blue, 128 GB)',\n",
       " 'realme C21 (Cross Blue, 64 GB)',\n",
       " 'realme C21 (Cross Black, 32 GB)',\n",
       " 'realme C21 (Cross Blue, 32 GB)',\n",
       " 'realme C21 (Cross Black, 64 GB)',\n",
       " 'realme C25 (Watery Blue, 64 GB)',\n",
       " 'OPPO A33 (Moonlight Black, 32 GB)',\n",
       " 'Infinix Smart 4 Plus (Violet, 32 GB)',\n",
       " 'Infinix Hot 10 Play (Morandi Green, 64 GB)',\n",
       " 'Infinix Hot 10 Play (Aegean Blue, 64 GB)',\n",
       " 'realme Narzo 20 (Glory Silver, 64 GB)',\n",
       " 'REDMI 9i (Midnight Black, 64 GB)',\n",
       " 'Infinix Hot 10 Play (7° Purple, 64 GB)',\n",
       " 'REDMI 9 Power (Electric Green, 64 GB)',\n",
       " 'realme Narzo 30A (Laser Blue, 64 GB)',\n",
       " 'realme Narzo 30A (Laser Black, 64 GB)',\n",
       " 'realme Narzo 30A (Laser Black, 32 GB)',\n",
       " 'realme C20 (Cool Blue, 32 GB)',\n",
       " 'realme C20 (Cool Grey, 32 GB)',\n",
       " 'Infinix Smart 4 Plus (Quetzal Cyan, 32 GB)',\n",
       " 'Infinix Smart 4 Plus (Midnight Black, 32 GB)',\n",
       " 'POCO M3 (Cool Blue, 64 GB)',\n",
       " 'POCO M3 (Power Black, 128 GB)',\n",
       " 'REDMI 9 Power (Mighty Black, 64 GB)',\n",
       " 'realme Narzo 20 (Victory Blue, 128 GB)',\n",
       " 'realme C21 (Cross Blue, 64 GB)',\n",
       " 'realme C21 (Cross Black, 32 GB)',\n",
       " 'realme C21 (Cross Blue, 32 GB)',\n",
       " 'realme C21 (Cross Black, 64 GB)',\n",
       " 'realme C25 (Watery Blue, 64 GB)',\n",
       " 'OPPO A33 (Moonlight Black, 32 GB)',\n",
       " 'Infinix Smart 4 Plus (Violet, 32 GB)']"
      ]
     },
     "execution_count": 329,
     "metadata": {},
     "output_type": "execute_result"
    }
   ],
   "source": [
    "brand_name"
   ]
  },
  {
   "cell_type": "code",
   "execution_count": 336,
   "metadata": {},
   "outputs": [
    {
     "ename": "ValueError",
     "evalue": "arrays must all be same length",
     "output_type": "error",
     "traceback": [
      "\u001b[1;31m---------------------------------------------------------------------------\u001b[0m",
      "\u001b[1;31mValueError\u001b[0m                                Traceback (most recent call last)",
      "\u001b[1;32m<ipython-input-336-b74a03a5791f>\u001b[0m in \u001b[0;36m<module>\u001b[1;34m\u001b[0m\n\u001b[1;32m----> 1\u001b[1;33m Smartphones=pd.DataFrame({\"Brand_name\":brand_name,\n\u001b[0m\u001b[0;32m      2\u001b[0m                          \u001b[1;34m\"Smartphone_name\"\u001b[0m\u001b[1;33m:\u001b[0m\u001b[0msmartphone_name\u001b[0m\u001b[1;33m,\u001b[0m\u001b[1;33m\u001b[0m\u001b[1;33m\u001b[0m\u001b[0m\n\u001b[0;32m      3\u001b[0m                          \u001b[1;34m\"Color\"\u001b[0m\u001b[1;33m:\u001b[0m\u001b[0msmartphone_color\u001b[0m\u001b[1;33m,\u001b[0m\u001b[1;33m\u001b[0m\u001b[1;33m\u001b[0m\u001b[0m\n\u001b[0;32m      4\u001b[0m                          \u001b[1;34m\"Price\"\u001b[0m\u001b[1;33m:\u001b[0m\u001b[0msmartphone_price\u001b[0m\u001b[1;33m,\u001b[0m\u001b[1;33m\u001b[0m\u001b[1;33m\u001b[0m\u001b[0m\n\u001b[0;32m      5\u001b[0m                          \"Urls\":smartphone_urls})\n",
      "\u001b[1;32m~\\anaconda3\\lib\\site-packages\\pandas\\core\\frame.py\u001b[0m in \u001b[0;36m__init__\u001b[1;34m(self, data, index, columns, dtype, copy)\u001b[0m\n\u001b[0;32m    466\u001b[0m \u001b[1;33m\u001b[0m\u001b[0m\n\u001b[0;32m    467\u001b[0m         \u001b[1;32melif\u001b[0m \u001b[0misinstance\u001b[0m\u001b[1;33m(\u001b[0m\u001b[0mdata\u001b[0m\u001b[1;33m,\u001b[0m \u001b[0mdict\u001b[0m\u001b[1;33m)\u001b[0m\u001b[1;33m:\u001b[0m\u001b[1;33m\u001b[0m\u001b[1;33m\u001b[0m\u001b[0m\n\u001b[1;32m--> 468\u001b[1;33m             \u001b[0mmgr\u001b[0m \u001b[1;33m=\u001b[0m \u001b[0minit_dict\u001b[0m\u001b[1;33m(\u001b[0m\u001b[0mdata\u001b[0m\u001b[1;33m,\u001b[0m \u001b[0mindex\u001b[0m\u001b[1;33m,\u001b[0m \u001b[0mcolumns\u001b[0m\u001b[1;33m,\u001b[0m \u001b[0mdtype\u001b[0m\u001b[1;33m=\u001b[0m\u001b[0mdtype\u001b[0m\u001b[1;33m)\u001b[0m\u001b[1;33m\u001b[0m\u001b[1;33m\u001b[0m\u001b[0m\n\u001b[0m\u001b[0;32m    469\u001b[0m         \u001b[1;32melif\u001b[0m \u001b[0misinstance\u001b[0m\u001b[1;33m(\u001b[0m\u001b[0mdata\u001b[0m\u001b[1;33m,\u001b[0m \u001b[0mma\u001b[0m\u001b[1;33m.\u001b[0m\u001b[0mMaskedArray\u001b[0m\u001b[1;33m)\u001b[0m\u001b[1;33m:\u001b[0m\u001b[1;33m\u001b[0m\u001b[1;33m\u001b[0m\u001b[0m\n\u001b[0;32m    470\u001b[0m             \u001b[1;32mimport\u001b[0m \u001b[0mnumpy\u001b[0m\u001b[1;33m.\u001b[0m\u001b[0mma\u001b[0m\u001b[1;33m.\u001b[0m\u001b[0mmrecords\u001b[0m \u001b[1;32mas\u001b[0m \u001b[0mmrecords\u001b[0m\u001b[1;33m\u001b[0m\u001b[1;33m\u001b[0m\u001b[0m\n",
      "\u001b[1;32m~\\anaconda3\\lib\\site-packages\\pandas\\core\\internals\\construction.py\u001b[0m in \u001b[0;36minit_dict\u001b[1;34m(data, index, columns, dtype)\u001b[0m\n\u001b[0;32m    281\u001b[0m             \u001b[0marr\u001b[0m \u001b[1;32mif\u001b[0m \u001b[1;32mnot\u001b[0m \u001b[0mis_datetime64tz_dtype\u001b[0m\u001b[1;33m(\u001b[0m\u001b[0marr\u001b[0m\u001b[1;33m)\u001b[0m \u001b[1;32melse\u001b[0m \u001b[0marr\u001b[0m\u001b[1;33m.\u001b[0m\u001b[0mcopy\u001b[0m\u001b[1;33m(\u001b[0m\u001b[1;33m)\u001b[0m \u001b[1;32mfor\u001b[0m \u001b[0marr\u001b[0m \u001b[1;32min\u001b[0m \u001b[0marrays\u001b[0m\u001b[1;33m\u001b[0m\u001b[1;33m\u001b[0m\u001b[0m\n\u001b[0;32m    282\u001b[0m         ]\n\u001b[1;32m--> 283\u001b[1;33m     \u001b[1;32mreturn\u001b[0m \u001b[0marrays_to_mgr\u001b[0m\u001b[1;33m(\u001b[0m\u001b[0marrays\u001b[0m\u001b[1;33m,\u001b[0m \u001b[0mdata_names\u001b[0m\u001b[1;33m,\u001b[0m \u001b[0mindex\u001b[0m\u001b[1;33m,\u001b[0m \u001b[0mcolumns\u001b[0m\u001b[1;33m,\u001b[0m \u001b[0mdtype\u001b[0m\u001b[1;33m=\u001b[0m\u001b[0mdtype\u001b[0m\u001b[1;33m)\u001b[0m\u001b[1;33m\u001b[0m\u001b[1;33m\u001b[0m\u001b[0m\n\u001b[0m\u001b[0;32m    284\u001b[0m \u001b[1;33m\u001b[0m\u001b[0m\n\u001b[0;32m    285\u001b[0m \u001b[1;33m\u001b[0m\u001b[0m\n",
      "\u001b[1;32m~\\anaconda3\\lib\\site-packages\\pandas\\core\\internals\\construction.py\u001b[0m in \u001b[0;36marrays_to_mgr\u001b[1;34m(arrays, arr_names, index, columns, dtype, verify_integrity)\u001b[0m\n\u001b[0;32m     76\u001b[0m         \u001b[1;31m# figure out the index, if necessary\u001b[0m\u001b[1;33m\u001b[0m\u001b[1;33m\u001b[0m\u001b[1;33m\u001b[0m\u001b[0m\n\u001b[0;32m     77\u001b[0m         \u001b[1;32mif\u001b[0m \u001b[0mindex\u001b[0m \u001b[1;32mis\u001b[0m \u001b[1;32mNone\u001b[0m\u001b[1;33m:\u001b[0m\u001b[1;33m\u001b[0m\u001b[1;33m\u001b[0m\u001b[0m\n\u001b[1;32m---> 78\u001b[1;33m             \u001b[0mindex\u001b[0m \u001b[1;33m=\u001b[0m \u001b[0mextract_index\u001b[0m\u001b[1;33m(\u001b[0m\u001b[0marrays\u001b[0m\u001b[1;33m)\u001b[0m\u001b[1;33m\u001b[0m\u001b[1;33m\u001b[0m\u001b[0m\n\u001b[0m\u001b[0;32m     79\u001b[0m         \u001b[1;32melse\u001b[0m\u001b[1;33m:\u001b[0m\u001b[1;33m\u001b[0m\u001b[1;33m\u001b[0m\u001b[0m\n\u001b[0;32m     80\u001b[0m             \u001b[0mindex\u001b[0m \u001b[1;33m=\u001b[0m \u001b[0mensure_index\u001b[0m\u001b[1;33m(\u001b[0m\u001b[0mindex\u001b[0m\u001b[1;33m)\u001b[0m\u001b[1;33m\u001b[0m\u001b[1;33m\u001b[0m\u001b[0m\n",
      "\u001b[1;32m~\\anaconda3\\lib\\site-packages\\pandas\\core\\internals\\construction.py\u001b[0m in \u001b[0;36mextract_index\u001b[1;34m(data)\u001b[0m\n\u001b[0;32m    395\u001b[0m             \u001b[0mlengths\u001b[0m \u001b[1;33m=\u001b[0m \u001b[0mlist\u001b[0m\u001b[1;33m(\u001b[0m\u001b[0mset\u001b[0m\u001b[1;33m(\u001b[0m\u001b[0mraw_lengths\u001b[0m\u001b[1;33m)\u001b[0m\u001b[1;33m)\u001b[0m\u001b[1;33m\u001b[0m\u001b[1;33m\u001b[0m\u001b[0m\n\u001b[0;32m    396\u001b[0m             \u001b[1;32mif\u001b[0m \u001b[0mlen\u001b[0m\u001b[1;33m(\u001b[0m\u001b[0mlengths\u001b[0m\u001b[1;33m)\u001b[0m \u001b[1;33m>\u001b[0m \u001b[1;36m1\u001b[0m\u001b[1;33m:\u001b[0m\u001b[1;33m\u001b[0m\u001b[1;33m\u001b[0m\u001b[0m\n\u001b[1;32m--> 397\u001b[1;33m                 \u001b[1;32mraise\u001b[0m \u001b[0mValueError\u001b[0m\u001b[1;33m(\u001b[0m\u001b[1;34m\"arrays must all be same length\"\u001b[0m\u001b[1;33m)\u001b[0m\u001b[1;33m\u001b[0m\u001b[1;33m\u001b[0m\u001b[0m\n\u001b[0m\u001b[0;32m    398\u001b[0m \u001b[1;33m\u001b[0m\u001b[0m\n\u001b[0;32m    399\u001b[0m             \u001b[1;32mif\u001b[0m \u001b[0mhave_dicts\u001b[0m\u001b[1;33m:\u001b[0m\u001b[1;33m\u001b[0m\u001b[1;33m\u001b[0m\u001b[0m\n",
      "\u001b[1;31mValueError\u001b[0m: arrays must all be same length"
     ]
    }
   ],
   "source": [
    "Smartphones=pd.DataFrame({\"Brand_name\":brand_name,\n",
    "                         \"Smartphone_name\":smartphone_name,\n",
    "                         \"Color\":smartphone_color,\n",
    "                         \"Price\":smartphone_price,\n",
    "                         \"Urls\":smartphone_urls})\n",
    "Smartphones.head()"
   ]
  },
  {
   "cell_type": "code",
   "execution_count": 338,
   "metadata": {},
   "outputs": [
    {
     "data": {
      "text/plain": [
       "(48, 48, 48, 24, 1)"
      ]
     },
     "execution_count": 338,
     "metadata": {},
     "output_type": "execute_result"
    }
   ],
   "source": [
    "len(brand_name),len(smartphone_name),len(smartphone_color),len(smartphone_price),len(smartphone_urls)"
   ]
  },
  {
   "cell_type": "markdown",
   "metadata": {},
   "source": [
    "Q.6"
   ]
  },
  {
   "cell_type": "code",
   "execution_count": 344,
   "metadata": {},
   "outputs": [],
   "source": [
    "#import required library\n",
    "from bs4 import BeautifulSoup\n",
    "import requests\n",
    "import numpy as np\n",
    "import pandas as pd"
   ]
  },
  {
   "cell_type": "code",
   "execution_count": 345,
   "metadata": {},
   "outputs": [],
   "source": [
    "url= requests.get(\"https://www.trak.in\")"
   ]
  },
  {
   "cell_type": "code",
   "execution_count": 341,
   "metadata": {},
   "outputs": [],
   "source": [
    "#open website\n",
    "driver.get(\"https://www.trak.in\")"
   ]
  },
  {
   "cell_type": "code",
   "execution_count": 343,
   "metadata": {},
   "outputs": [
    {
     "data": {
      "text/plain": [
       "[]"
      ]
     },
     "execution_count": 343,
     "metadata": {},
     "output_type": "execute_result"
    }
   ],
   "source": [
    "#funding deals\n",
    "funding_deals=[]\n",
    "driver.find_elements_by_xpath('//a[@class=bs-pretty-tabs-more]')"
   ]
  },
  {
   "cell_type": "code",
   "execution_count": 346,
   "metadata": {},
   "outputs": [
    {
     "name": "stdout",
     "output_type": "stream",
     "text": [
      "Collecting scrapy\n",
      "  Downloading Scrapy-2.5.0-py2.py3-none-any.whl (254 kB)\n",
      "Requirement already satisfied: cryptography>=2.0 in c:\\users\\itadmin\\anaconda3\\lib\\site-packages (from scrapy) (3.1.1)\n",
      "Collecting PyDispatcher>=2.0.5; platform_python_implementation == \"CPython\"\n",
      "  Downloading PyDispatcher-2.0.5.tar.gz (34 kB)\n",
      "Requirement already satisfied: pyOpenSSL>=16.2.0 in c:\\users\\itadmin\\anaconda3\\lib\\site-packages (from scrapy) (19.1.0)\n",
      "Collecting itemloaders>=1.0.1\n",
      "  Downloading itemloaders-1.0.4-py3-none-any.whl (11 kB)\n",
      "Requirement already satisfied: zope.interface>=4.1.3 in c:\\users\\itadmin\\anaconda3\\lib\\site-packages (from scrapy) (5.1.2)\n",
      "Collecting queuelib>=1.4.2\n",
      "  Downloading queuelib-1.6.1-py2.py3-none-any.whl (12 kB)\n",
      "Collecting protego>=0.1.15\n",
      "  Downloading Protego-0.1.16.tar.gz (3.2 MB)\n",
      "Collecting Twisted[http2]>=17.9.0\n",
      "  Downloading Twisted-21.2.0-py3-none-any.whl (3.1 MB)\n",
      "Collecting itemadapter>=0.1.0\n",
      "  Downloading itemadapter-0.2.0-py3-none-any.whl (9.3 kB)\n",
      "Requirement already satisfied: lxml>=3.5.0; platform_python_implementation == \"CPython\" in c:\\users\\itadmin\\anaconda3\\lib\\site-packages (from scrapy) (4.6.1)\n",
      "Collecting h2<4.0,>=3.0\n",
      "  Downloading h2-3.2.0-py2.py3-none-any.whl (65 kB)\n",
      "Collecting parsel>=1.5.0\n",
      "  Downloading parsel-1.6.0-py2.py3-none-any.whl (13 kB)\n",
      "Collecting cssselect>=0.9.1\n",
      "  Downloading cssselect-1.1.0-py2.py3-none-any.whl (16 kB)\n",
      "Collecting service-identity>=16.0.0\n",
      "  Downloading service_identity-21.1.0-py2.py3-none-any.whl (12 kB)\n",
      "Collecting w3lib>=1.17.0\n",
      "  Downloading w3lib-1.22.0-py2.py3-none-any.whl (20 kB)\n",
      "Requirement already satisfied: cffi!=1.11.3,>=1.8 in c:\\users\\itadmin\\anaconda3\\lib\\site-packages (from cryptography>=2.0->scrapy) (1.14.3)\n",
      "Requirement already satisfied: six>=1.4.1 in c:\\users\\itadmin\\anaconda3\\lib\\site-packages (from cryptography>=2.0->scrapy) (1.15.0)\n",
      "Collecting jmespath>=0.9.5\n",
      "  Downloading jmespath-0.10.0-py2.py3-none-any.whl (24 kB)\n",
      "Requirement already satisfied: setuptools in c:\\users\\itadmin\\anaconda3\\lib\\site-packages (from zope.interface>=4.1.3->scrapy) (50.3.1.post20201107)\n",
      "Requirement already satisfied: attrs>=19.2.0 in c:\\users\\itadmin\\anaconda3\\lib\\site-packages (from Twisted[http2]>=17.9.0->scrapy) (20.3.0)\n",
      "Collecting twisted-iocpsupport~=1.0.0; platform_system == \"Windows\"\n",
      "  Downloading twisted_iocpsupport-1.0.1-cp38-cp38-win_amd64.whl (45 kB)\n",
      "Collecting incremental>=16.10.1\n",
      "  Downloading incremental-21.3.0-py2.py3-none-any.whl (15 kB)\n",
      "Collecting hyperlink>=17.1.1\n",
      "  Downloading hyperlink-21.0.0-py2.py3-none-any.whl (74 kB)\n",
      "Collecting Automat>=0.8.0\n",
      "  Downloading Automat-20.2.0-py2.py3-none-any.whl (31 kB)\n",
      "Collecting constantly>=15.1\n",
      "  Downloading constantly-15.1.0-py2.py3-none-any.whl (7.9 kB)\n",
      "Collecting priority<2.0,>=1.1.0; extra == \"http2\"\n",
      "  Downloading priority-1.3.0-py2.py3-none-any.whl (11 kB)\n",
      "Collecting hyperframe<6,>=5.2.0\n",
      "  Downloading hyperframe-5.2.0-py2.py3-none-any.whl (12 kB)\n",
      "Collecting hpack<4,>=3.0\n",
      "  Downloading hpack-3.0.0-py2.py3-none-any.whl (38 kB)\n",
      "Collecting pyasn1-modules\n",
      "  Downloading pyasn1_modules-0.2.8-py2.py3-none-any.whl (155 kB)\n",
      "Collecting pyasn1\n",
      "  Downloading pyasn1-0.4.8-py2.py3-none-any.whl (77 kB)\n",
      "Requirement already satisfied: pycparser in c:\\users\\itadmin\\anaconda3\\lib\\site-packages (from cffi!=1.11.3,>=1.8->cryptography>=2.0->scrapy) (2.20)\n",
      "Requirement already satisfied: idna>=2.5 in c:\\users\\itadmin\\anaconda3\\lib\\site-packages (from hyperlink>=17.1.1->Twisted[http2]>=17.9.0->scrapy) (2.10)\n",
      "Building wheels for collected packages: PyDispatcher, protego\n",
      "  Building wheel for PyDispatcher (setup.py): started\n",
      "  Building wheel for PyDispatcher (setup.py): finished with status 'done'\n",
      "  Created wheel for PyDispatcher: filename=PyDispatcher-2.0.5-py3-none-any.whl size=12552 sha256=aa28a5d99f68066a53d9cbb30dce9f5182594ea90f3d89c68d15c4aabb4f1f08\n",
      "  Stored in directory: c:\\users\\itadmin\\appdata\\local\\pip\\cache\\wheels\\d1\\d7\\61\\11b5b370ee487d38b5408ecb7e0257db9107fa622412cbe2ff\n",
      "  Building wheel for protego (setup.py): started\n",
      "  Building wheel for protego (setup.py): finished with status 'done'\n",
      "  Created wheel for protego: filename=Protego-0.1.16-py3-none-any.whl size=7770 sha256=58cdce599cedcae60fc0aca00198c51090768fe8114fedd28d034b9096186ba8\n",
      "  Stored in directory: c:\\users\\itadmin\\appdata\\local\\pip\\cache\\wheels\\91\\64\\36\\bd0d11306cb22a78c7f53d603c7eb74ebb6c211703bc40b686\n",
      "Successfully built PyDispatcher protego\n",
      "Installing collected packages: PyDispatcher, w3lib, cssselect, parsel, itemadapter, jmespath, itemloaders, queuelib, protego, twisted-iocpsupport, incremental, hyperlink, Automat, constantly, priority, hyperframe, hpack, h2, Twisted, pyasn1, pyasn1-modules, service-identity, scrapy\n",
      "Successfully installed Automat-20.2.0 PyDispatcher-2.0.5 Twisted-21.2.0 constantly-15.1.0 cssselect-1.1.0 h2-3.2.0 hpack-3.0.0 hyperframe-5.2.0 hyperlink-21.0.0 incremental-21.3.0 itemadapter-0.2.0 itemloaders-1.0.4 jmespath-0.10.0 parsel-1.6.0 priority-1.3.0 protego-0.1.16 pyasn1-0.4.8 pyasn1-modules-0.2.8 queuelib-1.6.1 scrapy-2.5.0 service-identity-21.1.0 twisted-iocpsupport-1.0.1 w3lib-1.22.0\n"
     ]
    }
   ],
   "source": [
    "!pip install scrapy"
   ]
  },
  {
   "cell_type": "code",
   "execution_count": null,
   "metadata": {},
   "outputs": [],
   "source": []
  }
 ],
 "metadata": {
  "kernelspec": {
   "display_name": "Python 3",
   "language": "python",
   "name": "python3"
  },
  "language_info": {
   "codemirror_mode": {
    "name": "ipython",
    "version": 3
   },
   "file_extension": ".py",
   "mimetype": "text/x-python",
   "name": "python",
   "nbconvert_exporter": "python",
   "pygments_lexer": "ipython3",
   "version": "3.8.5"
  }
 },
 "nbformat": 4,
 "nbformat_minor": 4
}
